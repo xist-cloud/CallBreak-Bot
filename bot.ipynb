{
 "cells": [
  {
   "cell_type": "code",
   "execution_count": 1,
   "id": "73a67e32-b845-4b76-ad12-e5821fb42ed8",
   "metadata": {},
   "outputs": [],
   "source": [
    "# required modules\n",
    "import json\n",
    "from flask import Flask, request, jsonify\n",
    "from flask_cors import CORS"
   ]
  },
  {
   "cell_type": "code",
   "execution_count": 2,
   "id": "bd6a6d70-0eb0-4b17-8cae-c4783b0f8161",
   "metadata": {},
   "outputs": [
    {
     "data": {
      "text/plain": [
       "<flask_cors.extension.CORS at 0x2013c9acf10>"
      ]
     },
     "execution_count": 2,
     "metadata": {},
     "output_type": "execute_result"
    }
   ],
   "source": [
    "app = Flask(__name__)\n",
    "CORS(app)"
   ]
  },
  {
   "cell_type": "code",
   "execution_count": 3,
   "id": "a3fcc554-77f3-4803-9b6c-135c9445497e",
   "metadata": {},
   "outputs": [],
   "source": [
    "# bidding\n",
    "@app.route(\"/bid\")\n",
    "def bid():\n",
    "    body = request.get_json()\n",
    "    j = json.dumps(body, indent = 2)\n",
    "    print(j)\n",
    "    \n",
    "    with open(\"json/bid_log.json\", \"a\") as handle:\n",
    "        handle.write(j)\n",
    "    \n",
    "    return jsonify({\"value\": 3})"
   ]
  },
  {
   "cell_type": "code",
   "execution_count": 4,
   "id": "eef0ce1e-dfa8-484d-b2af-3f2c9e860bec",
   "metadata": {},
   "outputs": [],
   "source": [
    "# playing\n",
    "@app.route(\"/play\")\n",
    "def play():\n",
    "    body = request.get_json()\n",
    "    j = json.dumps(body, indent = 2)\n",
    "    print(j)\n",
    "    \n",
    "    with open(\"json/play_log.json\", \"a\") as handle:\n",
    "        handle.write(j)\n",
    "        \n",
    "    value = input(\">>> \")\n",
    "    return jsonify({\"value\" : value})"
   ]
  },
  {
   "cell_type": "code",
   "execution_count": 5,
   "id": "c267657f-0646-44dd-aeab-31092b4b3005",
   "metadata": {},
   "outputs": [
    {
     "name": "stdout",
     "output_type": "stream",
     "text": [
      " * Serving Flask app '__main__' (lazy loading)\n",
      " * Environment: production\n",
      "\u001b[31m   WARNING: This is a development server. Do not use it in a production deployment.\u001b[0m\n",
      "\u001b[2m   Use a production WSGI server instead.\u001b[0m\n",
      " * Debug mode: off\n"
     ]
    },
    {
     "name": "stderr",
     "output_type": "stream",
     "text": [
      " * Running on http://127.0.0.1:7000 (Press CTRL+C to quit)\n",
      "127.0.0.1 - - [02/Apr/2022 11:01:24] \"GET / HTTP/1.1\" 404 -\n",
      "127.0.0.1 - - [02/Apr/2022 11:01:32] \"OPTIONS /bid HTTP/1.1\" 200 -\n",
      "127.0.0.1 - - [02/Apr/2022 11:01:33] \"POST /bid HTTP/1.1\" 405 -\n"
     ]
    }
   ],
   "source": [
    "if __name__ == \"__main__\":\n",
    "    app.run(port = 7000)"
   ]
  },
  {
   "cell_type": "code",
   "execution_count": null,
   "id": "c4b98ac9-a512-4df2-9d03-7a974f02059b",
   "metadata": {},
   "outputs": [],
   "source": []
  }
 ],
 "metadata": {
  "kernelspec": {
   "display_name": "Python 3",
   "language": "python",
   "name": "python3"
  },
  "language_info": {
   "codemirror_mode": {
    "name": "ipython",
    "version": 3
   },
   "file_extension": ".py",
   "mimetype": "text/x-python",
   "name": "python",
   "nbconvert_exporter": "python",
   "pygments_lexer": "ipython3",
   "version": "3.10.2"
  }
 },
 "nbformat": 4,
 "nbformat_minor": 5
}
